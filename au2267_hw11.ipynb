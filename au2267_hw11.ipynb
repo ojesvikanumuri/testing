{
 "cells": [
  {
   "cell_type": "markdown",
   "id": "f47a98da",
   "metadata": {},
   "source": [
    "<subject>\n",
    "Assignment How-To\n",
    "</subject>\n",
    "\n",
    "<details>\n",
    "    \n",
    "**Do Not Talk During Quizzes or Exams**\n",
    "\n",
    "Do not talk at all once an exam has begun. You may talk again once you leave the room after the quiz or exam. The one exception to this rule is if you need to ask the exam proctor a question. Any talking during a quiz or exam qualifies the student for disciplinary action.\n",
    "\n",
    "**Naming Conventions**\n",
    "\n",
    "When naming your files for upload, you must follow the format below:\n",
    "\n",
    "    <uni>_<assignment>_<details [optional]>.<extension>\n",
    "\n",
    "For example, if I needed to hand in HW 0, any of the below formats would be sufficient for a file name:\n",
    "\n",
    "- jb4661_hw0.ipynb\n",
    "- jb4661_hw0.txt\n",
    "- jb4661_hw0.sh\n",
    "- jb4661_hw0_all_in_one.txt\n",
    "- jb4661_hw0_bash_program.sh\n",
    "- jb4661_quiz1.ipynb\n",
    "\n",
    "This naming format allows for autograding of all assignments. If your files are not named with this format, you should expect a grade of zero for the assignment.\n",
    "\n",
    "Courseworks may rename your file to something like `jb4661_hw0-1.ipynb` if you resubmit your assignment. This is perfectly fine.\n",
    "\n",
    "**What Format To Submit In**\n",
    "\n",
    "Most homework and quizzes are in Jupyter notebooks. Unless specified otherwise, please download your work as an `.ipynb` file from your local machine and upload it to courseworks.\n",
    "\n",
    "\n",
    "**Grading**\n",
    "\n",
    "Possible points on late assignments are deducted by 50% for each day they are late. For example, if you get 80% of the total possible credits on a homework but hand in that homework a day late, you would get 40%. Assignments two days late get zero points.\n",
    "\n",
    "Once solutions are posted and graded assignments are handed back, students have 1 week to bring their grading discrepancies to a CA for consideration of possible grading errors. \n",
    "\n",
    "Because grading is automated, please delete (or comment out) the `raise NotImplemented` code before attempting a problem. \n",
    "\n",
    "Empty un-editable cells in an assignment are there for a purpose. They will be filled with tests by the automatic grader. Please do not attempt to remove them.\n",
    "\n",
    "**Getting Help**\n",
    "\n",
    "Asking for help is a great way to increase your chance of success. However there are some rules. When asking for help (especially from a fellow student), *you can show your helper your code but you can not view theirs*. You work needs to be your own. You can not post screenshots of your current work to Piazza or other tools used for getting help.\n",
    "\n",
    "If you need to reach out to a CA for help, please do so via Piazza and not via email. Answers given via Piazza will help you as well as other students. Thus, emails will always have a lower priority for response than Piazza questions. If you do email the CA, please make a note of what section you are in. This helps us identify you in courseworks faster. \n",
    "\n",
    "Finally, if you do not get a repsonse from a CA within 48 hours, you may email the professor.\n",
    "\n",
    "**Multiple Choice**\n",
    "\n",
    "If the question is multiple choice, you will be given several options to choose from and your function will need to return **one** of those options **verbatim** as a string.\n",
    "\n",
    "For example: \n",
    "\n",
    "Which of the following animals bark?\n",
    "\n",
    "- dogs\n",
    "- cats\n",
    "- fish\n",
    "- trees\n",
    "\n",
    "A correct answer would be structured in the following way:\n",
    "\n",
    "```python\n",
    "def question_animals():\n",
    "    return 'dogs'\n",
    "```\n",
    "\n",
    "You answer will be stripped of left and right white space and lowercased before comparison to the correct answer during grading.\n",
    "</details>"
   ]
  },
  {
   "cell_type": "code",
   "execution_count": null,
   "id": "f56861cf",
   "metadata": {},
   "outputs": [],
   "source": []
  },
  {
   "cell_type": "markdown",
   "id": "fe7d90fb",
   "metadata": {
    "deletable": false,
    "editable": false,
    "nbgrader": {
     "cell_type": "markdown",
     "checksum": "40fa781028187cd40595db5b7136c8a6",
     "grade": false,
     "grade_id": "cell-ce02856174fecd4f",
     "locked": true,
     "schema_version": 3,
     "solution": false,
     "task": false
    }
   },
   "source": [
    "Define a class called `Contact` which takes a `name` (a `str`) and `phone_number` (a `str`) argument.\n",
    "\n",
    "Give this class a method called `to_json`, taking no arguments, which represents a contact object as a JSON object (remember that 'object' in JSON is the equivalent of a Python `dict`).\n",
    "\n",
    "Calling the `to_json` method on a `Contact` object should produce a JSON object with 2 keys named `name` and `phone_number`, with the associated values from the object."
   ]
  },
  {
   "cell_type": "code",
   "execution_count": 1,
   "id": "f43562be",
   "metadata": {
    "deletable": false,
    "nbgrader": {
     "cell_type": "code",
     "checksum": "3358d6852e9c889b3223f1b4c1101fb1",
     "grade": false,
     "grade_id": "cell-86df7452cc39ab9f",
     "locked": false,
     "schema_version": 3,
     "solution": true,
     "task": false
    }
   },
   "outputs": [],
   "source": [
    "import json\n",
    "class Contact:\n",
    "    def __init__(self,name,phone_number):\n",
    "        self.name=name\n",
    "        self.phone_number=phone_number\n",
    "    def to_json(self):\n",
    "        contact={\"name\":self.name, \"phone_number\":self.phone_number}\n",
    "        return json.dumps(contact)"
   ]
  },
  {
   "cell_type": "code",
   "execution_count": 2,
   "id": "b67a3ee1",
   "metadata": {},
   "outputs": [
    {
     "name": "stdout",
     "output_type": "stream",
     "text": [
      "{\"name\": \"Avanti\", \"phone_number\": \"646-8815910\"}\n"
     ]
    }
   ],
   "source": [
    "c= Contact(\"Avanti\",\"646-8815910\")\n",
    "print(c.to_json())"
   ]
  },
  {
   "cell_type": "code",
   "execution_count": null,
   "id": "49e19afa",
   "metadata": {
    "deletable": false,
    "editable": false,
    "nbgrader": {
     "cell_type": "code",
     "checksum": "d02a886b4d0d947e6eccc5225c102218",
     "grade": true,
     "grade_id": "cell-1c076aa2b55a013d",
     "locked": true,
     "points": 0.5,
     "schema_version": 3,
     "solution": false,
     "task": false
    }
   },
   "outputs": [],
   "source": []
  },
  {
   "cell_type": "code",
   "execution_count": null,
   "id": "6213b3da",
   "metadata": {
    "deletable": false,
    "editable": false,
    "nbgrader": {
     "cell_type": "code",
     "checksum": "89c9cf4f90aea7c78fa6543dcc10d301",
     "grade": true,
     "grade_id": "cell-604b01f3fef391bb",
     "locked": true,
     "points": 0.5,
     "schema_version": 3,
     "solution": false,
     "task": false
    }
   },
   "outputs": [],
   "source": []
  },
  {
   "cell_type": "code",
   "execution_count": null,
   "id": "4cc09d9b",
   "metadata": {
    "deletable": false,
    "editable": false,
    "nbgrader": {
     "cell_type": "code",
     "checksum": "d9a8cfcd2f4ffeebdc07e4751edde0d9",
     "grade": true,
     "grade_id": "cell-a72e2accad9f1a2e",
     "locked": true,
     "points": 0.5,
     "schema_version": 3,
     "solution": false,
     "task": false
    }
   },
   "outputs": [],
   "source": []
  },
  {
   "cell_type": "code",
   "execution_count": null,
   "id": "049f7989",
   "metadata": {
    "deletable": false,
    "editable": false,
    "nbgrader": {
     "cell_type": "code",
     "checksum": "f83f867acbc5329b5d803d62a2b902eb",
     "grade": true,
     "grade_id": "cell-56ad616231336c84",
     "locked": true,
     "points": 1,
     "schema_version": 3,
     "solution": false,
     "task": false
    }
   },
   "outputs": [],
   "source": []
  },
  {
   "cell_type": "code",
   "execution_count": null,
   "id": "a4674cac",
   "metadata": {
    "deletable": false,
    "editable": false,
    "nbgrader": {
     "cell_type": "code",
     "checksum": "a9857859f0b5af00ebd9b6ef7769f7dd",
     "grade": true,
     "grade_id": "cell-b10b9e5576d735ad",
     "locked": true,
     "points": 0.5,
     "schema_version": 3,
     "solution": false,
     "task": false
    }
   },
   "outputs": [],
   "source": []
  },
  {
   "cell_type": "markdown",
   "id": "9365ea26",
   "metadata": {
    "deletable": false,
    "editable": false,
    "nbgrader": {
     "cell_type": "markdown",
     "checksum": "bb880f7064b4bb89420ac4195b777c9b",
     "grade": false,
     "grade_id": "cell-9261d1a4c8b93bd3",
     "locked": true,
     "schema_version": 3,
     "solution": false,
     "task": false
    }
   },
   "source": [
    "Write a function called `ones` which takes two arguments, `m` and `n`, and produces an `m` row by `n` column JSON array-of-arrays, with all elements being 1.\n",
    "\n",
    "In other words:\n",
    "\n",
    "`ones(2, 2)` should produce the JSON `\"[[1, 1], [1, 1]]\"`, and `ones(1, 4)` should produce `\"[[1, 1, 1, 1]]\"`.\n",
    "\n",
    "`m` and `n` can be any positive integer."
   ]
  },
  {
   "cell_type": "code",
   "execution_count": 3,
   "id": "5fe08fdf",
   "metadata": {
    "deletable": false,
    "nbgrader": {
     "cell_type": "code",
     "checksum": "ba8c5adc69b5754672e9ef92bb9b391c",
     "grade": false,
     "grade_id": "cell-7f2bfd6eecce6fd5",
     "locked": false,
     "schema_version": 3,
     "solution": true,
     "task": false
    }
   },
   "outputs": [],
   "source": [
    "import json\n",
    "def ones(m,n):\n",
    "    result=[]\n",
    "    for i in range(1,m+1):\n",
    "        temp=[]\n",
    "        for x in range(1,n+1):\n",
    "            temp.append(1)\n",
    "        result.append(temp)\n",
    "    return json.dumps(result)"
   ]
  },
  {
   "cell_type": "code",
   "execution_count": 4,
   "id": "0800d4f6",
   "metadata": {},
   "outputs": [
    {
     "data": {
      "text/plain": [
       "'[[1, 1, 1, 1]]'"
      ]
     },
     "execution_count": 4,
     "metadata": {},
     "output_type": "execute_result"
    }
   ],
   "source": [
    "ones(1,4)"
   ]
  },
  {
   "cell_type": "code",
   "execution_count": 5,
   "id": "4104a5f2",
   "metadata": {},
   "outputs": [
    {
     "data": {
      "text/plain": [
       "'[[1, 1], [1, 1]]'"
      ]
     },
     "execution_count": 5,
     "metadata": {},
     "output_type": "execute_result"
    }
   ],
   "source": [
    "ones(2,2)"
   ]
  },
  {
   "cell_type": "code",
   "execution_count": null,
   "id": "1000b3d6",
   "metadata": {
    "deletable": false,
    "editable": false,
    "nbgrader": {
     "cell_type": "code",
     "checksum": "7ab0d46e493f8d756572e368cf4d4abf",
     "grade": true,
     "grade_id": "cell-00a6361dd89d002a",
     "locked": true,
     "points": 1,
     "schema_version": 3,
     "solution": false,
     "task": false
    }
   },
   "outputs": [],
   "source": []
  },
  {
   "cell_type": "code",
   "execution_count": null,
   "id": "aa34d616",
   "metadata": {
    "deletable": false,
    "editable": false,
    "nbgrader": {
     "cell_type": "code",
     "checksum": "de2384b14eceef88218e6b58ecad9091",
     "grade": true,
     "grade_id": "cell-1d53fbfe5e0c5cb0",
     "locked": true,
     "points": 0.5,
     "schema_version": 3,
     "solution": false,
     "task": false
    }
   },
   "outputs": [],
   "source": []
  },
  {
   "cell_type": "code",
   "execution_count": null,
   "id": "99efc19f",
   "metadata": {
    "deletable": false,
    "editable": false,
    "nbgrader": {
     "cell_type": "code",
     "checksum": "ba885d58f298de2a15c70d7e525a3813",
     "grade": true,
     "grade_id": "cell-513d8e9dda2f5338",
     "locked": true,
     "points": 0.5,
     "schema_version": 3,
     "solution": false,
     "task": false
    }
   },
   "outputs": [],
   "source": []
  }
 ],
 "metadata": {
  "kernelspec": {
   "display_name": "Python 3",
   "language": "python",
   "name": "python3"
  },
  "language_info": {
   "codemirror_mode": {
    "name": "ipython",
    "version": 3
   },
   "file_extension": ".py",
   "mimetype": "text/x-python",
   "name": "python",
   "nbconvert_exporter": "python",
   "pygments_lexer": "ipython3",
   "version": "3.8.8"
  }
 },
 "nbformat": 4,
 "nbformat_minor": 5
}
