{
 "cells": [
  {
   "cell_type": "code",
   "execution_count": 1,
   "metadata": {},
   "outputs": [
    {
     "name": "stdout",
     "output_type": "stream",
     "text": [
      "3.8.5 (default, Sep  4 2020, 02:22:02) \n",
      "[Clang 10.0.0 ]\n"
     ]
    }
   ],
   "source": [
    "import sys\n",
    "print(sys.version)"
   ]
  },
  {
   "cell_type": "code",
   "execution_count": 1,
   "metadata": {},
   "outputs": [
    {
     "ename": "TypeError",
     "evalue": "'<' not supported between instances of 'str' and 'int'",
     "output_type": "error",
     "traceback": [
      "\u001b[0;31m---------------------------------------------------------------------------\u001b[0m",
      "\u001b[0;31mTypeError\u001b[0m                                 Traceback (most recent call last)",
      "\u001b[0;32m<ipython-input-1-2a3b2d1f7bd2>\u001b[0m in \u001b[0;36m<module>\u001b[0;34m\u001b[0m\n\u001b[1;32m      1\u001b[0m \u001b[0mli\u001b[0m \u001b[0;34m=\u001b[0m \u001b[0;34m[\u001b[0m\u001b[0;36m1\u001b[0m\u001b[0;34m,\u001b[0m\u001b[0;34m'a'\u001b[0m\u001b[0;34m]\u001b[0m\u001b[0;34m\u001b[0m\u001b[0;34m\u001b[0m\u001b[0m\n\u001b[0;32m----> 2\u001b[0;31m \u001b[0msorted\u001b[0m\u001b[0;34m(\u001b[0m\u001b[0mli\u001b[0m\u001b[0;34m)\u001b[0m\u001b[0;34m\u001b[0m\u001b[0;34m\u001b[0m\u001b[0m\n\u001b[0m",
      "\u001b[0;31mTypeError\u001b[0m: '<' not supported between instances of 'str' and 'int'"
     ]
    }
   ],
   "source": [
    "li = [1,'a']\n",
    "sorted(li)"
   ]
  },
  {
   "cell_type": "code",
   "execution_count": null,
   "metadata": {},
   "outputs": [],
   "source": [
    "myset = {'a',2,3,'a'}"
   ]
  },
  {
   "cell_type": "code",
   "execution_count": null,
   "metadata": {},
   "outputs": [],
   "source": [
    "myset"
   ]
  },
  {
   "cell_type": "code",
   "execution_count": null,
   "metadata": {},
   "outputs": [],
   "source": [
    "x=10\n",
    "l = []\n",
    "for i in range(1,x):\n",
    "    l.append(i%2)\n",
    "l"
   ]
  },
  {
   "cell_type": "code",
   "execution_count": null,
   "metadata": {},
   "outputs": [],
   "source": [
    "l = 'abc'\n",
    "print(len(l))\n",
    "for i in range(0,len(l)):\n",
    "    print(l)"
   ]
  },
  {
   "cell_type": "code",
   "execution_count": null,
   "metadata": {},
   "outputs": [],
   "source": [
    "b = (1, 2, 3) + (4, 5, 6)\n",
    "b * 2"
   ]
  },
  {
   "cell_type": "code",
   "execution_count": null,
   "metadata": {},
   "outputs": [],
   "source": [
    "first = [1, 2, 3]\n",
    "second = [1, 0, 3]\n",
    "first is second"
   ]
  },
  {
   "cell_type": "code",
   "execution_count": 14,
   "metadata": {},
   "outputs": [
    {
     "name": "stdout",
     "output_type": "stream",
     "text": [
      "None\n"
     ]
    }
   ],
   "source": [
    "a = [\"foo\", 2, 2, \"foo\"]\n",
    "b = []\n",
    "b = a.reverse()\n",
    "print(b)"
   ]
  },
  {
   "cell_type": "code",
   "execution_count": 18,
   "metadata": {},
   "outputs": [],
   "source": [
    "def itself():\n",
    "    # YOUR CODE HERE\n",
    "    return 1"
   ]
  },
  {
   "cell_type": "code",
   "execution_count": 17,
   "metadata": {},
   "outputs": [
    {
     "ename": "TypeError",
     "evalue": "'int' object is not subscriptable",
     "output_type": "error",
     "traceback": [
      "\u001b[0;31m---------------------------------------------------------------------------\u001b[0m",
      "\u001b[0;31mTypeError\u001b[0m                                 Traceback (most recent call last)",
      "\u001b[0;32m<ipython-input-17-67e9c0263b99>\u001b[0m in \u001b[0;36m<module>\u001b[0;34m\u001b[0m\n\u001b[1;32m      1\u001b[0m \u001b[0mresult\u001b[0m \u001b[0;34m=\u001b[0m \u001b[0mitself\u001b[0m\u001b[0;34m(\u001b[0m\u001b[0;34m)\u001b[0m\u001b[0;34m\u001b[0m\u001b[0;34m\u001b[0m\u001b[0m\n\u001b[0;32m----> 2\u001b[0;31m \u001b[0mresult\u001b[0m\u001b[0;34m[\u001b[0m\u001b[0;36m0\u001b[0m\u001b[0;34m]\u001b[0m\u001b[0;34m\u001b[0m\u001b[0;34m\u001b[0m\u001b[0m\n\u001b[0m",
      "\u001b[0;31mTypeError\u001b[0m: 'int' object is not subscriptable"
     ]
    }
   ],
   "source": [
    "result = itself()\n"
   ]
  },
  {
   "cell_type": "code",
   "execution_count": null,
   "metadata": {},
   "outputs": [],
   "source": []
  },
  {
   "cell_type": "code",
   "execution_count": 51,
   "metadata": {},
   "outputs": [
    {
     "data": {
      "text/plain": [
       "{'title': 'Columbia to Launch 25 Million Dollar AI-based Climate Modeling Center',\n",
       " 'author:': 'Kim Martineau',\n",
       " 'body': ' Funded by the National Science Foundation, the center will leverage big data and machine learning to improve climate projections.\\n\\nIt should also motivate societies to invest in policies and infrastructure to confront rising seas and warmer temperatures.'}"
      ]
     },
     "execution_count": 51,
     "metadata": {},
     "output_type": "execute_result"
    }
   ],
   "source": [
    "article = \"\"\"\n",
    "Columbia to Launch 25 Million Dollar AI-based Climate Modeling Center\n",
    "---------------------------------------------------------------------\n",
    "Author: Kim Martineau\n",
    "\n",
    "Funded by the National Science Foundation, the center will leverage big data and machine learning to improve climate projections.\n",
    "\n",
    "It should also motivate societies to invest in policies and infrastructure to confront rising seas and warmer temperatures.\n",
    "\"\"\"\n",
    "\n",
    "article_dict = {}\n",
    "\n",
    "x = article.splitlines(keepends=True)\n",
    "        \n",
    "article_dict[\"title\"]=x[1][0:-1]\n",
    "\n",
    "\n",
    "if x[3].startswith(\"Author:\"):\n",
    "    article_dict['author:']=x[3][8:-1]\n",
    "else:\n",
    "    article_dict['author:']= None\n",
    "\n",
    "str1 = ' '\n",
    "if x[3].startswith(\"Author:\"):\n",
    "    for i in range(5,len(x)):\n",
    "        str1 = str1 +x[i]\n",
    "\n",
    "else:\n",
    "    for i in range(3,len(x)):\n",
    "        str1 = str1 +x[i]\n",
    "\n",
    "article_dict[\"body\"]= str1[:-1]\n",
    "\n",
    "article_dict"
   ]
  },
  {
   "cell_type": "code",
   "execution_count": 52,
   "metadata": {},
   "outputs": [
    {
     "data": {
      "text/plain": [
       "['\\n',\n",
       " 'Columbia to Launch 25 Million Dollar AI-based Climate Modeling Center\\n',\n",
       " '---------------------------------------------------------------------\\n',\n",
       " 'Author: Kim Martineau\\n',\n",
       " '\\n',\n",
       " 'Funded by the National Science Foundation, the center will leverage big data and machine learning to improve climate projections.\\n',\n",
       " '\\n',\n",
       " 'It should also motivate societies to invest in policies and infrastructure to confront rising seas and warmer temperatures.\\n']"
      ]
     },
     "execution_count": 52,
     "metadata": {},
     "output_type": "execute_result"
    }
   ],
   "source": [
    "x"
   ]
  },
  {
   "cell_type": "code",
   "execution_count": 1,
   "metadata": {},
   "outputs": [
    {
     "data": {
      "text/plain": [
       "'{1, 2, 3, 4, 5, 6, 7, 12}'"
      ]
     },
     "execution_count": 1,
     "metadata": {},
     "output_type": "execute_result"
    }
   ],
   "source": [
    "liam={1, 2, 3, 4, 5, 6, 7, 12}\n",
    "str"
   ]
  },
  {
   "cell_type": "code",
   "execution_count": 4,
   "metadata": {},
   "outputs": [
    {
     "data": {
      "text/plain": [
       "{2, 3, 4, 5, 6}"
      ]
     },
     "execution_count": 4,
     "metadata": {},
     "output_type": "execute_result"
    }
   ],
   "source": [
    "liam={1, 7, 8}\n",
    "sofia={9, 10, 11, 12}\n",
    "l = {1,2,3,4,5,6,7,8,9,11,12}\n",
    "l - (liam.union(sofia))"
   ]
  },
  {
   "cell_type": "code",
   "execution_count": 1,
   "metadata": {},
   "outputs": [],
   "source": [
    "total_sales = {\n",
    "    \"sneakers\": {\"NY1\": [13, 22, 2, 1, 1, 10, 3], \"NY2\": [12, 13, 3, 20, 17, 19, 14], \"NJ1\": [30, 1, 27, 14, 21, 11, 18]},\n",
    "    \"boots\": {\"NY1\": [23, 16, 26, 26, 18, 15, 27], \"NY2\": [7, 15, 2, 16, 4, 8, 23], \"NJ1\": [17, 19, 27, 12, 0, 6, 22]},\n",
    "    \"loafers\": {\"NY1\": [2, 24, 9, 13, 3, 13, 15], \"NY2\": [13, 6, 11, 7, 7, 15, 25], \"NJ1\": [29, 8, 8, 24, 11, 3, 27]},\n",
    "    \"sandals\": {\"NY1\": [0, 0, 0, 0, 0, 0, 0], \"NY2\": [0, 0, 0, 0, 0, 0, 0], \"NJ1\": [0, 0, 0, 30, 22, 100, 99]},\n",
    "    \"socks\": {\"NY1\": [0, 1, 0, 0, 0, 0, 0], \"NY2\": [1, 1, 0, 0, 0, 0, 0], \"NJ1\": [30, 20, 1, 11, 3, 2, 5]},\n",
    "}"
   ]
  },
  {
   "cell_type": "code",
   "execution_count": 19,
   "metadata": {},
   "outputs": [
    {
     "ename": "SyntaxError",
     "evalue": "unexpected EOF while parsing (<ipython-input-19-bc6dda9a1b30>, line 1)",
     "output_type": "error",
     "traceback": [
      "\u001b[0;36m  File \u001b[0;32m\"<ipython-input-19-bc6dda9a1b30>\"\u001b[0;36m, line \u001b[0;32m1\u001b[0m\n\u001b[0;31m    print((total_sales(0))\u001b[0m\n\u001b[0m                          ^\u001b[0m\n\u001b[0;31mSyntaxError\u001b[0m\u001b[0;31m:\u001b[0m unexpected EOF while parsing\n"
     ]
    }
   ],
   "source": [
    "print((total_sales"
   ]
  },
  {
   "cell_type": "code",
   "execution_count": 15,
   "metadata": {},
   "outputs": [
    {
     "data": {
      "text/plain": [
       "52"
      ]
     },
     "execution_count": 15,
     "metadata": {},
     "output_type": "execute_result"
    }
   ],
   "source": [
    "sum_of_ny1 = sum(sum(total_sales['sneakers']['NY1'])+sum(total_sales['boots']['NY1'])\n",
    "sum_of_ny1"
   ]
  },
  {
   "cell_type": "code",
   "execution_count": 23,
   "metadata": {},
   "outputs": [],
   "source": [
    "keys_list = list(total_sales)"
   ]
  },
  {
   "cell_type": "code",
   "execution_count": 24,
   "metadata": {},
   "outputs": [
    {
     "data": {
      "text/plain": [
       "['sneakers', 'boots', 'loafers', 'sandals', 'socks']"
      ]
     },
     "execution_count": 24,
     "metadata": {},
     "output_type": "execute_result"
    }
   ],
   "source": [
    "keys_list"
   ]
  },
  {
   "cell_type": "code",
   "execution_count": 29,
   "metadata": {},
   "outputs": [
    {
     "name": "stdout",
     "output_type": "stream",
     "text": [
      "{'NY1': 283, 'NY2': 259, 'NJ1': 658}\n"
     ]
    }
   ],
   "source": [
    "sum_ny1 = 0\n",
    "sum_ny2 = 0\n",
    "sum_nj1 = 0\n",
    "key_list = list(total_sales)\n",
    "for i in range(0,len(key_list)):\n",
    "    sum_ny1 = sum_ny1 + sum(total_sales[key_list[i]][\"NY1\"])\n",
    "\n",
    "for i in range(0,len(key_list)):\n",
    "    sum_ny2 = sum_ny2 + sum(total_sales[key_list[i]][\"NY2\"])    \n",
    "\n",
    "for i in range(0,len(key_list)):\n",
    "    sum_nj1 = sum_nj1 + sum(total_sales[key_list[i]][\"NJ1\"])\n",
    "\n",
    "sum_dict = {\n",
    "    \"NY1\" : sum_ny1,\n",
    "    \"NY2\" : sum_ny2,\n",
    "    \"NJ1\" : sum_nj1\n",
    "}\n",
    "    \n",
    "return sum_dict"
   ]
  },
  {
   "cell_type": "code",
   "execution_count": 30,
   "metadata": {},
   "outputs": [
    {
     "ename": "AssertionError",
     "evalue": "",
     "output_type": "error",
     "traceback": [
      "\u001b[0;31m---------------------------------------------------------------------------\u001b[0m",
      "\u001b[0;31mAssertionError\u001b[0m                            Traceback (most recent call last)",
      "\u001b[0;32m<ipython-input-30-6620cb653077>\u001b[0m in \u001b[0;36m<module>\u001b[0;34m\u001b[0m\n\u001b[1;32m      6\u001b[0m         \u001b[0;32mreturn\u001b[0m \u001b[0;32mFalse\u001b[0m\u001b[0;34m\u001b[0m\u001b[0;34m\u001b[0m\u001b[0m\n\u001b[1;32m      7\u001b[0m \u001b[0;34m\u001b[0m\u001b[0m\n\u001b[0;32m----> 8\u001b[0;31m \u001b[0;32massert\u001b[0m \u001b[0mhas_duplicates\u001b[0m\u001b[0;34m(\u001b[0m\u001b[0;34m[\u001b[0m\u001b[0;36m1\u001b[0m\u001b[0;34m,\u001b[0m \u001b[0;36m1\u001b[0m\u001b[0;34m,\u001b[0m \u001b[0;36m1\u001b[0m\u001b[0;34m]\u001b[0m\u001b[0;34m)\u001b[0m\u001b[0;34m\u001b[0m\u001b[0;34m\u001b[0m\u001b[0m\n\u001b[0m",
      "\u001b[0;31mAssertionError\u001b[0m: "
     ]
    }
   ],
   "source": [
    "def has_duplicates(numbers):\n",
    "    # YOUR CODE HERE\n",
    "    if list(set(numbers)) == numbers:\n",
    "        return True\n",
    "    else:\n",
    "        return False\n",
    "\n",
    "assert has_duplicates([1, 1, 1])"
   ]
  },
  {
   "cell_type": "code",
   "execution_count": 36,
   "metadata": {},
   "outputs": [
    {
     "data": {
      "text/plain": [
       "True"
      ]
     },
     "execution_count": 36,
     "metadata": {},
     "output_type": "execute_result"
    }
   ],
   "source": [
    "def has_duplicates(numbers):\n",
    "    # YOUR CODE HERE\n",
    "    if len(list(set(numbers))) != len(numbers):\n",
    "        return True\n",
    "    else:\n",
    "        return False\n",
    "\n",
    "has_duplicates([2, 4, 6, 2])"
   ]
  },
  {
   "cell_type": "code",
   "execution_count": 4,
   "metadata": {},
   "outputs": [
    {
     "data": {
      "text/plain": [
       "[1, 2, 3, 4, 5, 6, 7, 8, 9]"
      ]
     },
     "execution_count": 4,
     "metadata": {},
     "output_type": "execute_result"
    }
   ],
   "source": [
    "sum([[1, 2, 3], [4, 5, 6], [7, 8, 9]], start=[])"
   ]
  },
  {
   "cell_type": "code",
   "execution_count": 7,
   "metadata": {},
   "outputs": [
    {
     "data": {
      "text/plain": [
       "['zero -> ZERO',\n",
       " 'one -> ONE',\n",
       " 'two -> TWO',\n",
       " 'three -> THREE',\n",
       " 'four -> FOUR',\n",
       " 'five -> FIVE',\n",
       " 'six -> SIX',\n",
       " 'seven -> SEVEN',\n",
       " 'eight -> EIGHT',\n",
       " 'nine -> NINE']"
      ]
     },
     "execution_count": 7,
     "metadata": {},
     "output_type": "execute_result"
    }
   ],
   "source": [
    "numbers = [\"zero\", \"one\", \"two\", \"three\", \"four\", \"five\", \"six\", \"seven\", \"eight\", \"nine\"]\n",
    "[f\"{each} -> {each.upper()}\" for each in numbers]"
   ]
  },
  {
   "cell_type": "code",
   "execution_count": 2,
   "metadata": {},
   "outputs": [
    {
     "ename": "NameError",
     "evalue": "name 's1' is not defined",
     "output_type": "error",
     "traceback": [
      "\u001b[0;31m---------------------------------------------------------------------------\u001b[0m",
      "\u001b[0;31mNameError\u001b[0m                                 Traceback (most recent call last)",
      "\u001b[0;32m<ipython-input-2-2cada5220f17>\u001b[0m in \u001b[0;36m<module>\u001b[0;34m\u001b[0m\n\u001b[0;32m----> 1\u001b[0;31m \u001b[0menumerate\u001b[0m\u001b[0;34m(\u001b[0m\u001b[0ms1\u001b[0m\u001b[0;34m)\u001b[0m\u001b[0;34m\u001b[0m\u001b[0;34m\u001b[0m\u001b[0m\n\u001b[0m",
      "\u001b[0;31mNameError\u001b[0m: name 's1' is not defined"
     ]
    }
   ],
   "source": [
    "enumerate(s1)"
   ]
  },
  {
   "cell_type": "code",
   "execution_count": 11,
   "metadata": {},
   "outputs": [
    {
     "name": "stdout",
     "output_type": "stream",
     "text": [
      "(0, 'g')\n"
     ]
    }
   ],
   "source": [
    "l1 = [\"eat\",\"sleep\",\"repeat\"]\n",
    "s1 = \"geek\"\n",
    "\n",
    "print(list(enumerate(s1))[0])"
   ]
  },
  {
   "cell_type": "code",
   "execution_count": 14,
   "metadata": {},
   "outputs": [
    {
     "data": {
      "text/plain": [
       "[('one', 1), ('three', 3), ('five', 5)]"
      ]
     },
     "execution_count": 14,
     "metadata": {},
     "output_type": "execute_result"
    }
   ],
   "source": [
    "numbers = [\"zero\", \"one\", \"two\", \"three\", \"four\", \"five\", \"six\", \"seven\", \"eight\", \"nine\"]\n",
    "#print(list(enumerate(numbers)))\n",
    "[(name, number) for number, name in enumerate(numbers) if number%2 and number<7]"
   ]
  },
  {
   "cell_type": "code",
   "execution_count": 17,
   "metadata": {},
   "outputs": [],
   "source": [
    "\n",
    "names_to_numbers = {k : i for i, k in enumerate(numbers)}"
   ]
  },
  {
   "cell_type": "code",
   "execution_count": 19,
   "metadata": {},
   "outputs": [
    {
     "data": {
      "text/plain": [
       "{5: 8, 3: 4, 9: 2, 2: 3, 6: 6, 7: 7, 1: 9}"
      ]
     },
     "execution_count": 19,
     "metadata": {},
     "output_type": "execute_result"
    }
   ],
   "source": [
    "exp_to_numbers"
   ]
  },
  {
   "cell_type": "code",
   "execution_count": 20,
   "metadata": {},
   "outputs": [
    {
     "ename": "TypeError",
     "evalue": "must be real number, not str",
     "output_type": "error",
     "traceback": [
      "\u001b[0;31m---------------------------------------------------------------------------\u001b[0m",
      "\u001b[0;31mTypeError\u001b[0m                                 Traceback (most recent call last)",
      "\u001b[0;32m<ipython-input-20-bcdcd0965470>\u001b[0m in \u001b[0;36m<module>\u001b[0;34m\u001b[0m\n\u001b[1;32m      1\u001b[0m \u001b[0;32mimport\u001b[0m \u001b[0mmath\u001b[0m\u001b[0;34m\u001b[0m\u001b[0;34m\u001b[0m\u001b[0m\n\u001b[0;32m----> 2\u001b[0;31m \u001b[0mresult\u001b[0m \u001b[0;34m=\u001b[0m \u001b[0mmath\u001b[0m\u001b[0;34m.\u001b[0m\u001b[0msin\u001b[0m\u001b[0;34m(\u001b[0m\u001b[0;34m'not a number'\u001b[0m\u001b[0;34m)\u001b[0m\u001b[0;34m\u001b[0m\u001b[0;34m\u001b[0m\u001b[0m\n\u001b[0m",
      "\u001b[0;31mTypeError\u001b[0m: must be real number, not str"
     ]
    }
   ],
   "source": [
    "import math\n",
    "result = math.sin('not a number')"
   ]
  },
  {
   "cell_type": "code",
   "execution_count": 21,
   "metadata": {},
   "outputs": [
    {
     "name": "stdout",
     "output_type": "stream",
     "text": [
      "We handled an exception: must be real number, not str\n",
      "1.0\n"
     ]
    }
   ],
   "source": [
    "import math\n",
    "try:\n",
    "    result = math.sin(\"not a number\")\n",
    "except TypeError as error:  # exceptions are objects\n",
    "    print(\"We handled an exception:\", str(error))\n",
    "    result = math.sin(math.pi / 2)\n",
    "print(result)"
   ]
  },
  {
   "cell_type": "code",
   "execution_count": 33,
   "metadata": {},
   "outputs": [
    {
     "data": {
      "text/plain": [
       "\"Gsfjhglay biwricwehvrciwbfnweilksbhjdfkvhdf\\nDsjfhksdlfj\\n;llksdhjflskal\\nKdjshfks\\nDa'f;lasdlkhfgj\\nljsdfk\""
      ]
     },
     "execution_count": 33,
     "metadata": {},
     "output_type": "execute_result"
    }
   ],
   "source": [
    "from pathlib import Path\n",
    "alice = Path(\"/Users/ockanumuri/Desktop/i.txt\") \n",
    "alice.read_text()"
   ]
  },
  {
   "cell_type": "code",
   "execution_count": 39,
   "metadata": {},
   "outputs": [
    {
     "name": "stdout",
     "output_type": "stream",
     "text": [
      "0\n",
      "Gsfjhglay biwricwehvrciwbfnweilksbhjdfkvhdf\n",
      "\n",
      "1\n",
      "Dsjfhksdlfj\n",
      "\n",
      "2\n",
      ";llksdhjflskal\n",
      "\n",
      "3\n",
      "Kdjshfks\n",
      "\n",
      "4\n",
      "Da'f;lasdlkhfgj\n",
      "\n",
      "5\n",
      "ljsdfk\n"
     ]
    }
   ],
   "source": [
    "with open(alice) as text_version:\n",
    "#     print(list(enumerate(text_version)))\n",
    "#     print('_______')\n",
    "    for i, line in enumerate(text_version):  # iteration over files gives you lines!\n",
    "        print(i)\n",
    "        print(line)"
   ]
  },
  {
   "cell_type": "code",
   "execution_count": 50,
   "metadata": {},
   "outputs": [
    {
     "name": "stdout",
     "output_type": "stream",
     "text": [
      "ls\n"
     ]
    }
   ],
   "source": [
    "print(line[0:3:2])"
   ]
  },
  {
   "cell_type": "code",
   "execution_count": 52,
   "metadata": {},
   "outputs": [
    {
     "data": {
      "text/plain": [
       "[1, 2, 3, 2, 3, 4]"
      ]
     },
     "execution_count": 52,
     "metadata": {},
     "output_type": "execute_result"
    }
   ],
   "source": [
    "l1 = [1,2,3]\n",
    "l2 = [2,3,4,]\n",
    "l1+l2"
   ]
  },
  {
   "cell_type": "code",
   "execution_count": 76,
   "metadata": {},
   "outputs": [
    {
     "data": {
      "text/plain": [
       "[4, 6, 8, 10]"
      ]
     },
     "execution_count": 76,
     "metadata": {},
     "output_type": "execute_result"
    }
   ],
   "source": [
    "def scalar_multiply(scalar, sequence):\n",
    "    # YOUR CODE HERE\n",
    "    sequence = list(sequence)\n",
    "    if sequence == []:\n",
    "        raise ValueError(\"Dont give empty lists\")\n",
    "        \n",
    "    else:\n",
    "        return [scalar*number for number in sequence]"
   ]
  },
  {
   "cell_type": "code",
   "execution_count": 78,
   "metadata": {},
   "outputs": [
    {
     "data": {
      "text/plain": [
       "[2, 4, 6, 3, 5, 7]"
      ]
     },
     "execution_count": 78,
     "metadata": {},
     "output_type": "execute_result"
    }
   ],
   "source": [
    "def is_even(number):\n",
    "    return (number % 2) == 0\n",
    "\n",
    "def evens_first(numbers):\n",
    "    # YOUR CODE HERE\n",
    "    even_list = []\n",
    "    odd_list = []\n",
    "    for number in numbers: \n",
    "        if is_even(number) == True:\n",
    "            even_list.append(number) \n",
    "        else :\n",
    "            odd_list.append(number)\n",
    "    return even_list + odd_list\n",
    "\n",
    "result = evens_first([3, 5, 2, 4, 6, 7])\n",
    "result"
   ]
  },
  {
   "cell_type": "code",
   "execution_count": 2,
   "metadata": {},
   "outputs": [
    {
     "ename": "IndexError",
     "evalue": "no such group",
     "output_type": "error",
     "traceback": [
      "\u001b[0;31m---------------------------------------------------------------------------\u001b[0m",
      "\u001b[0;31mIndexError\u001b[0m                                Traceback (most recent call last)",
      "\u001b[0;32m<ipython-input-2-2884b5765bac>\u001b[0m in \u001b[0;36m<module>\u001b[0;34m\u001b[0m\n\u001b[1;32m      2\u001b[0m \u001b[0;34m\u001b[0m\u001b[0m\n\u001b[1;32m      3\u001b[0m \u001b[0mpattern\u001b[0m \u001b[0;34m=\u001b[0m \u001b[0;34m\"[\\d][A-Z]\"\u001b[0m\u001b[0;34m\u001b[0m\u001b[0;34m\u001b[0m\u001b[0m\n\u001b[0;32m----> 4\u001b[0;31m \u001b[0;32massert\u001b[0m \u001b[0mre\u001b[0m\u001b[0;34m.\u001b[0m\u001b[0msearch\u001b[0m\u001b[0;34m(\u001b[0m\u001b[0mpattern\u001b[0m\u001b[0;34m,\u001b[0m \u001b[0;34m\"Problem reported in apartment 3F with plumbing.\"\u001b[0m\u001b[0;34m)\u001b[0m\u001b[0;34m.\u001b[0m\u001b[0mgroup\u001b[0m\u001b[0;34m(\u001b[0m\u001b[0;36m1\u001b[0m\u001b[0;34m)\u001b[0m \u001b[0;34m==\u001b[0m \u001b[0;34m\"3F\"\u001b[0m\u001b[0;34m\u001b[0m\u001b[0;34m\u001b[0m\u001b[0m\n\u001b[0m",
      "\u001b[0;31mIndexError\u001b[0m: no such group"
     ]
    }
   ],
   "source": [
    "import re\n",
    "\n",
    "pattern = \"[\\d][A-Z]\"\n",
    "assert re.search(pattern, \"Problem reported in apartment 3F with plumbing.\").group(1) == \"3F\""
   ]
  },
  {
   "cell_type": "code",
   "execution_count": 1,
   "metadata": {},
   "outputs": [
    {
     "name": "stdout",
     "output_type": "stream",
     "text": [
      "['welcome', 'to', 'the', 'jungle']\n"
     ]
    }
   ],
   "source": [
    "txt = \"welcome to the jungle\"\n",
    "\n",
    "x = txt.split()\n",
    "\n",
    "print(x)"
   ]
  },
  {
   "cell_type": "code",
   "execution_count": 13,
   "metadata": {},
   "outputs": [
    {
     "name": "stdout",
     "output_type": "stream",
     "text": [
      "[[None, None, None], [None, None, None], [None, None, None]]\n",
      "\n",
      "___\n",
      "___\n",
      "___\n",
      "\n"
     ]
    }
   ],
   "source": [
    "# class Board:\n",
    "#     def __init__(self):\n",
    "#         # Define a 3x3 empty grid\n",
    "#         self.squares = [\n",
    "#             [None for _ in range(3)],\n",
    "#             [None for _ in range(3)],\n",
    "#             [None for _ in range(3)],\n",
    "#         ]\n",
    "#         # Whose turn is it? O will begin the game\n",
    "#         self._turn = \"O\"\n",
    "        \n",
    "#     def __repr__(self):\n",
    "#         return \"\\n\" + \"\\n\".join(\n",
    "#             \"\".join(\"_\" if piece is None else piece for piece in row)\n",
    "#             for row in self.squares\n",
    "#         ) + \"\\n\"\n",
    "    \n",
    "#     def mark_square(self, coordinates):\n",
    "#         \"\"\"\n",
    "#         Mark the square at the given coordinates with the current player's character.\n",
    "        \n",
    "#         Then move to the other player's turn.\n",
    "#         \"\"\"\n",
    "#         x, y = coordinates\n",
    "#         self.squares[x][y] = self._turn\n",
    "#         if self._turn == \"O\":\n",
    "#             self._turn = \"X\"\n",
    "#         else:\n",
    "#             self._turn = \"O\"\n",
    "            \n",
    "squares = [\n",
    "            [None for _ in range(3)],\n",
    "            [None for _ in range(3)],\n",
    "            [None for _ in range(3)],\n",
    "        ]\n",
    "\n",
    "print(squares)\n",
    "\n",
    "print(\"\\n\" + \"\\n\".join(\n",
    "             \"\".join(\"_\" if piece is None else piece for piece in row)\n",
    "             for row in squares\n",
    "         ) + \"\\n\")\n"
   ]
  },
  {
   "cell_type": "code",
   "execution_count": 2,
   "metadata": {},
   "outputs": [
    {
     "name": "stdout",
     "output_type": "stream",
     "text": [
      "'foo'\n",
      "foo\n"
     ]
    }
   ],
   "source": [
    "var = 'foo'\n",
    "\n",
    "print(repr(var))\n",
    "print(var)"
   ]
  },
  {
   "cell_type": "code",
   "execution_count": null,
   "metadata": {},
   "outputs": [],
   "source": []
  }
 ],
 "metadata": {
  "kernelspec": {
   "display_name": "Python 3",
   "language": "python",
   "name": "python3"
  },
  "language_info": {
   "codemirror_mode": {
    "name": "ipython",
    "version": 3
   },
   "file_extension": ".py",
   "mimetype": "text/x-python",
   "name": "python",
   "nbconvert_exporter": "python",
   "pygments_lexer": "ipython3",
   "version": "3.8.5"
  }
 },
 "nbformat": 4,
 "nbformat_minor": 4
}
