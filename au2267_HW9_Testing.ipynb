{
 "cells": [
  {
   "cell_type": "markdown",
   "id": "9726828f",
   "metadata": {},
   "source": [
    "<subject>\n",
    "Assignment How-To\n",
    "</subject>\n",
    "\n",
    "<details>\n",
    "    \n",
    "**Do Not Talk During Quizzes or Exams**\n",
    "\n",
    "Do not talk at all once an exam has begun. You may talk again once you leave the room after the quiz or exam. The one exception to this rule is if you need to ask the exam proctor a question. Any talking during a quiz or exam qualifies the student for disciplinary action.\n",
    "\n",
    "**Naming Conventions**\n",
    "\n",
    "When naming your files for upload, you must follow the format below:\n",
    "\n",
    "    <uni>_<assignment>_<details [optional]>.<extension>\n",
    "\n",
    "For example, if I needed to hand in HW 0, any of the below formats would be sufficient for a file name:\n",
    "\n",
    "- jb4661_hw0.ipynb\n",
    "- jb4661_hw0.txt\n",
    "- jb4661_hw0.sh\n",
    "- jb4661_hw0_all_in_one.txt\n",
    "- jb4661_hw0_bash_program.sh\n",
    "- jb4661_quiz1.ipynb\n",
    "\n",
    "This naming format allows for autograding of all assignments. If your files are not named with this format, you should expect a grade of zero for the assignment.\n",
    "\n",
    "Courseworks may rename your file to something like `jb4661_hw0-1.ipynb` if you resubmit your assignment. This is perfectly fine.\n",
    "\n",
    "**What Format To Submit In**\n",
    "\n",
    "Most homework and quizzes are in Jupyter notebooks. Unless specified otherwise, please download your work as an `.ipynb` file from your local machine and upload it to courseworks.\n",
    "\n",
    "\n",
    "**Grading**\n",
    "\n",
    "Possible points on late assignments are deducted by 50% for each day they are late. For example, if you get 80% of the total possible credits on a homework but hand in that homework a day late, you would get 40%. Assignments two days late get zero points.\n",
    "\n",
    "Once solutions are posted and graded assignments are handed back, students have 1 week to bring their grading discrepancies to a CA for consideration of possible grading errors. \n",
    "\n",
    "Because grading is automated, please delete (or comment out) the `raise NotImplemented` code before attempting a problem. \n",
    "\n",
    "Empty un-editable cells in an assignment are there for a purpose. They will be filled with tests by the automatic grader. Please do not attempt to remove them.\n",
    "\n",
    "**Getting Help**\n",
    "\n",
    "Asking for help is a great way to increase your chance of success. However there are some rules. When asking for help (especially from a fellow student), *you can show your helper your code but you can not view theirs*. You work needs to be your own. You can not post screenshots of your current work to Piazza or other tools used for getting help.\n",
    "\n",
    "If you need to reach out to a CA for help, please do so via Piazza and not via email. Answers given via Piazza will help you as well as other students. Thus, emails will always have a lower priority for response than Piazza questions. If you do email the CA, please make a note of what section you are in. This helps us identify you in courseworks faster. \n",
    "\n",
    "Finally, if you do not get a repsonse from a CA within 48 hours, you may email the professor.\n",
    "\n",
    "**Multiple Choice**\n",
    "\n",
    "If the question is multiple choice, you will be given several options to choose from and your function will need to return **one** of those options **verbatim** as a string.\n",
    "\n",
    "For example: \n",
    "\n",
    "Which of the following animals bark?\n",
    "\n",
    "- dogs\n",
    "- cats\n",
    "- fish\n",
    "- trees\n",
    "\n",
    "A correct answer would be structured in the following way:\n",
    "\n",
    "```python\n",
    "def question_animals():\n",
    "    return 'dogs'\n",
    "```\n",
    "\n",
    "You answer will be stripped of left and right white space and lowercased before comparison to the correct answer during grading.\n",
    "</details>"
   ]
  },
  {
   "cell_type": "code",
   "execution_count": null,
   "id": "c02df3c3",
   "metadata": {},
   "outputs": [],
   "source": []
  },
  {
   "cell_type": "markdown",
   "id": "fe7d90fb",
   "metadata": {
    "deletable": false,
    "editable": false,
    "nbgrader": {
     "cell_type": "markdown",
     "checksum": "0c76bd56abbdab94918eae676a4035a5",
     "grade": false,
     "grade_id": "cell-ce02856174fecd4f",
     "locked": true,
     "schema_version": 3,
     "solution": false,
     "task": false
    }
   },
   "source": [
    "We wish to practice writing *automated tests* for our code.\n",
    "\n",
    "This notebook provides you with \n",
    "\n",
    "The format you should use to define your tests is what we covered in class as suitable for `py.test` -- in other words, each test should be done inside a function, such as:\n",
    "\n",
    "```\n",
    "def test_something_happens():\n",
    "    board = Board()\n",
    "    assert board.something == 12\n",
    "```"
   ]
  },
  {
   "cell_type": "markdown",
   "id": "34bd21cd",
   "metadata": {
    "deletable": false,
    "editable": false,
    "nbgrader": {
     "cell_type": "markdown",
     "checksum": "a4d5be6d21a6fa7b7f7035bf81f0e29e",
     "grade": false,
     "grade_id": "cell-2405682dc94d620a",
     "locked": true,
     "schema_version": 3,
     "solution": false,
     "task": false
    }
   },
   "source": [
    "First, we implement a simple Tic-Tac-Toe board, with 9 squares we initialize with nothing in them. Also defined below is a `__repr__` method to help you see more easily what is on the board, should you need to print it.\n",
    "\n",
    "Below the `Board` is an example test, one we'd put in a separate file, which checks that after marking an \"O\" at square `[0, 0]` (which is the top left square, the bottom right one is `[2, 2]`) we get a board with an \"O\" at the correct spot.\n",
    "\n",
    "Write an additional test at the bottom called `test_mark_o_then_x` which checks that calling mark square twice, once with `[0, 0]` and a second time with `[1, 1]` marks two squares, one with an \"O\" and a second with an \"X\"."
   ]
  },
  {
   "cell_type": "code",
   "execution_count": 27,
   "id": "77fe6abb",
   "metadata": {
    "deletable": false,
    "nbgrader": {
     "cell_type": "code",
     "checksum": "99484d03c0c8ab3eb3342f17b6537e10",
     "grade": false,
     "grade_id": "cell-61f0db5c31b26e2d",
     "locked": false,
     "schema_version": 3,
     "solution": true,
     "task": false
    }
   },
   "outputs": [],
   "source": [
    "# As usual, do not touch lines in the notebook that don't tell you to put your code there!\n",
    "class Board:\n",
    "    def __init__(self):\n",
    "        # Define a 3x3 empty grid\n",
    "        self.squares = [\n",
    "            [None for _ in range(3)],\n",
    "            [None for _ in range(3)],\n",
    "            [None for _ in range(3)],\n",
    "        ]\n",
    "        # Whose turn is it? O will begin the game\n",
    "        self._turn = \"O\"\n",
    "        \n",
    "    def __repr__(self):\n",
    "        return \"\\n\" + \"\\n\".join(\n",
    "            \"\".join(\"_\" if piece is None else piece for piece in row)\n",
    "            for row in self.squares\n",
    "        ) + \"\\n\"\n",
    "    \n",
    "    def mark_square(self, coordinates):\n",
    "        \"\"\"\n",
    "        Mark the square at the given coordinates with the current player's character.\n",
    "        \n",
    "        Then move to the other player's turn.\n",
    "        \"\"\"\n",
    "        x, y = coordinates\n",
    "        self.squares[x][y] = self._turn\n",
    "        if self._turn == \"O\":\n",
    "            self._turn = \"X\"\n",
    "        else:\n",
    "            self._turn = \"O\"\n",
    "\n",
    "# BEGINNING OF test_tic_tac_toe.py:\n",
    "            \n",
    "def test_mark_o():\n",
    "    board = Board()\n",
    "    board.mark_square([0, 0])\n",
    "    assert board.squares == [\n",
    "        [\"O\", None, None],\n",
    "        [None, None, None],\n",
    "        [None, None, None],\n",
    "    ]\n",
    "    \n",
    "\n",
    "def test_mark_o_then_x():\n",
    "    board = Board()\n",
    "    board.mark_square([0, 0])\n",
    "    board.mark_square([1,1])\n",
    "    assert board.squares == [\n",
    "        [\"O\", None, None],\n",
    "        [None, \"X\", None],\n",
    "        [None, None, None],\n",
    "    ]"
   ]
  },
  {
   "cell_type": "code",
   "execution_count": null,
   "id": "49e19afa",
   "metadata": {
    "deletable": false,
    "editable": false,
    "nbgrader": {
     "cell_type": "code",
     "checksum": "8e478ee26305048c72aecc6941562311",
     "grade": true,
     "grade_id": "cell-1c076aa2b55a013d",
     "locked": true,
     "points": 1.5,
     "schema_version": 3,
     "solution": false,
     "task": false
    }
   },
   "outputs": [],
   "source": []
  },
  {
   "cell_type": "code",
   "execution_count": 28,
   "id": "2dd5f7cc",
   "metadata": {},
   "outputs": [],
   "source": [
    "test_mark_o_then_x()"
   ]
  },
  {
   "cell_type": "markdown",
   "id": "eadc7b0a",
   "metadata": {
    "deletable": false,
    "editable": false,
    "nbgrader": {
     "cell_type": "markdown",
     "checksum": "db075b6edee5fafba2ece9f7c48fa6fe",
     "grade": false,
     "grade_id": "cell-80e533e608919b19",
     "locked": true,
     "schema_version": 3,
     "solution": false,
     "task": false
    }
   },
   "source": [
    "Write an additional test which ensures that an empty board has all squares equal to `None`."
   ]
  },
  {
   "cell_type": "code",
   "execution_count": 29,
   "id": "59388463",
   "metadata": {
    "deletable": false,
    "nbgrader": {
     "cell_type": "code",
     "checksum": "a41773bcdfe2540b32944331e147d9cd",
     "grade": false,
     "grade_id": "cell-58263d61e1f9358a",
     "locked": false,
     "schema_version": 3,
     "solution": true,
     "task": false
    }
   },
   "outputs": [],
   "source": [
    "def test_empty_board():\n",
    "    board = Board()\n",
    "    assert board.squares == [\n",
    "        [None, None, None],\n",
    "        [None, None, None],\n",
    "        [None, None, None],\n",
    "    ]"
   ]
  },
  {
   "cell_type": "code",
   "execution_count": null,
   "id": "f372a767",
   "metadata": {
    "deletable": false,
    "editable": false,
    "nbgrader": {
     "cell_type": "code",
     "checksum": "04acf90eb38d951d686364973ca71ba7",
     "grade": true,
     "grade_id": "cell-a0b35772e8e8aee7",
     "locked": true,
     "points": 1,
     "schema_version": 3,
     "solution": false,
     "task": false
    }
   },
   "outputs": [],
   "source": []
  },
  {
   "cell_type": "code",
   "execution_count": 30,
   "id": "100f1e4a",
   "metadata": {},
   "outputs": [],
   "source": [
    "test_empty_board()"
   ]
  },
  {
   "cell_type": "markdown",
   "id": "768138a6",
   "metadata": {
    "deletable": false,
    "editable": false,
    "nbgrader": {
     "cell_type": "markdown",
     "checksum": "35efa664f694300f385ca207255ecbb2",
     "grade": false,
     "grade_id": "cell-7e46658bb453e4f7",
     "locked": true,
     "schema_version": 3,
     "solution": false,
     "task": false
    }
   },
   "source": [
    "Does the board allow someone to place a letter on top of a square that already has a letter? In other words, if there is an \"O\" at coordinate `[1,1]`, can `X` place an `X` at the same spot?\n",
    "\n",
    "Write a test which checks that using `mark_square` in this way raises an exception (you may use any exception type). If the test fails, you do not need to fix the implementation to make it pass."
   ]
  },
  {
   "cell_type": "code",
   "execution_count": 35,
   "id": "8bd90f79",
   "metadata": {
    "deletable": false,
    "nbgrader": {
     "cell_type": "code",
     "checksum": "38cfa4fa0444faf56a744ec23058e135",
     "grade": false,
     "grade_id": "cell-29852fac5eca715e",
     "locked": false,
     "schema_version": 3,
     "solution": true,
     "task": false
    }
   },
   "outputs": [],
   "source": [
    "import pytest\n",
    "def test_cannot_mark_a_square_twice():\n",
    "    board = Board()\n",
    "    with pytest.raises(ValueError):\n",
    "        board.mark_square([1,1])\n",
    "        board.mark_square([1,1])   "
   ]
  },
  {
   "cell_type": "code",
   "execution_count": null,
   "id": "a2e8ce24",
   "metadata": {
    "deletable": false,
    "editable": false,
    "nbgrader": {
     "cell_type": "code",
     "checksum": "75862d665ae9c446bc9f21e62f0086c9",
     "grade": true,
     "grade_id": "cell-32a9cd520a240de9",
     "locked": true,
     "points": 1.5,
     "schema_version": 3,
     "solution": false,
     "task": false
    }
   },
   "outputs": [],
   "source": []
  },
  {
   "cell_type": "code",
   "execution_count": 36,
   "id": "a82b9a91",
   "metadata": {},
   "outputs": [
    {
     "ename": "Failed",
     "evalue": "DID NOT RAISE <class 'ValueError'>",
     "output_type": "error",
     "traceback": [
      "\u001b[0;31m---------------------------------------------------------------------------\u001b[0m",
      "\u001b[0;31mFailed\u001b[0m                                    Traceback (most recent call last)",
      "\u001b[0;32m<ipython-input-36-8f367390da34>\u001b[0m in \u001b[0;36m<module>\u001b[0;34m\u001b[0m\n\u001b[0;32m----> 1\u001b[0;31m \u001b[0mtest_cannot_mark_a_square_twice\u001b[0m\u001b[0;34m(\u001b[0m\u001b[0;34m)\u001b[0m\u001b[0;34m\u001b[0m\u001b[0;34m\u001b[0m\u001b[0m\n\u001b[0m",
      "\u001b[0;32m<ipython-input-35-cfa1283ae4cb>\u001b[0m in \u001b[0;36mtest_cannot_mark_a_square_twice\u001b[0;34m()\u001b[0m\n\u001b[1;32m      4\u001b[0m     \u001b[0;32mwith\u001b[0m \u001b[0mpytest\u001b[0m\u001b[0;34m.\u001b[0m\u001b[0mraises\u001b[0m\u001b[0;34m(\u001b[0m\u001b[0mValueError\u001b[0m\u001b[0;34m)\u001b[0m\u001b[0;34m:\u001b[0m\u001b[0;34m\u001b[0m\u001b[0;34m\u001b[0m\u001b[0m\n\u001b[1;32m      5\u001b[0m         \u001b[0mboard\u001b[0m\u001b[0;34m.\u001b[0m\u001b[0mmark_square\u001b[0m\u001b[0;34m(\u001b[0m\u001b[0;34m[\u001b[0m\u001b[0;36m1\u001b[0m\u001b[0;34m,\u001b[0m\u001b[0;36m1\u001b[0m\u001b[0;34m]\u001b[0m\u001b[0;34m)\u001b[0m\u001b[0;34m\u001b[0m\u001b[0;34m\u001b[0m\u001b[0m\n\u001b[0;32m----> 6\u001b[0;31m         \u001b[0mboard\u001b[0m\u001b[0;34m.\u001b[0m\u001b[0mmark_square\u001b[0m\u001b[0;34m(\u001b[0m\u001b[0;34m[\u001b[0m\u001b[0;36m1\u001b[0m\u001b[0;34m,\u001b[0m\u001b[0;36m1\u001b[0m\u001b[0;34m]\u001b[0m\u001b[0;34m)\u001b[0m\u001b[0;34m\u001b[0m\u001b[0;34m\u001b[0m\u001b[0m\n\u001b[0m",
      "    \u001b[0;31m[... skipping hidden 1 frame]\u001b[0m\n",
      "\u001b[0;32m~/opt/anaconda3/anaconda3/lib/python3.8/site-packages/_pytest/outcomes.py\u001b[0m in \u001b[0;36mfail\u001b[0;34m(msg, pytrace)\u001b[0m\n\u001b[1;32m    151\u001b[0m     \"\"\"\n\u001b[1;32m    152\u001b[0m     \u001b[0m__tracebackhide__\u001b[0m \u001b[0;34m=\u001b[0m \u001b[0;32mTrue\u001b[0m\u001b[0;34m\u001b[0m\u001b[0;34m\u001b[0m\u001b[0m\n\u001b[0;32m--> 153\u001b[0;31m     \u001b[0;32mraise\u001b[0m \u001b[0mFailed\u001b[0m\u001b[0;34m(\u001b[0m\u001b[0mmsg\u001b[0m\u001b[0;34m=\u001b[0m\u001b[0mmsg\u001b[0m\u001b[0;34m,\u001b[0m \u001b[0mpytrace\u001b[0m\u001b[0;34m=\u001b[0m\u001b[0mpytrace\u001b[0m\u001b[0;34m)\u001b[0m\u001b[0;34m\u001b[0m\u001b[0;34m\u001b[0m\u001b[0m\n\u001b[0m\u001b[1;32m    154\u001b[0m \u001b[0;34m\u001b[0m\u001b[0m\n\u001b[1;32m    155\u001b[0m \u001b[0;34m\u001b[0m\u001b[0m\n",
      "\u001b[0;31mFailed\u001b[0m: DID NOT RAISE <class 'ValueError'>"
     ]
    }
   ],
   "source": [
    "test_cannot_mark_a_square_twice()"
   ]
  },
  {
   "cell_type": "code",
   "execution_count": null,
   "id": "4104918a",
   "metadata": {},
   "outputs": [],
   "source": []
  },
  {
   "cell_type": "code",
   "execution_count": null,
   "id": "02d3d933",
   "metadata": {},
   "outputs": [],
   "source": []
  },
  {
   "cell_type": "code",
   "execution_count": 22,
   "id": "9c843548",
   "metadata": {},
   "outputs": [],
   "source": []
  },
  {
   "cell_type": "code",
   "execution_count": null,
   "id": "d9585c2a",
   "metadata": {},
   "outputs": [],
   "source": []
  }
 ],
 "metadata": {
  "kernelspec": {
   "display_name": "Python 3",
   "language": "python",
   "name": "python3"
  },
  "language_info": {
   "codemirror_mode": {
    "name": "ipython",
    "version": 3
   },
   "file_extension": ".py",
   "mimetype": "text/x-python",
   "name": "python",
   "nbconvert_exporter": "python",
   "pygments_lexer": "ipython3",
   "version": "3.8.8"
  }
 },
 "nbformat": 4,
 "nbformat_minor": 5
}
